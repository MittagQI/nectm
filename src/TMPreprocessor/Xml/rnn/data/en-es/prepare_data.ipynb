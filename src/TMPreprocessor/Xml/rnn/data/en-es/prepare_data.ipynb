{
 "cells": [
  {
   "cell_type": "code",
   "execution_count": 1,
   "metadata": {
    "collapsed": true
   },
   "outputs": [],
   "source": [
    "'''\n",
    "created by Liangyou Li @ 25 July 2016\n",
    "'''\n",
    "\n",
    "import sys\n",
    "\n",
    "filepath = 'all.bio.unique'\n",
    "valid_num = 1000\n",
    "test_num = 1000"
   ]
  },
  {
   "cell_type": "code",
   "execution_count": 2,
   "metadata": {
    "collapsed": false
   },
   "outputs": [
    {
     "name": "stdout",
     "output_type": "stream",
     "text": [
      "12\n",
      "{'ADV': 10, 'NOUN': 0, 'ADP': 7, 'NUM': 9, 'DET': 6, '.': 2, 'PRT': 5, 'VERB': 1, 'X': 8, 'CONJ': 3, 'PRON': 11, 'ADJ': 4}\n",
      "3\n",
      "{'O': 2, 'I-T': 1, 'B-T': 0}\n"
     ]
    }
   ],
   "source": [
    "'''\n",
    "create dictionaries to map each word and label to a unique int\n",
    "'''\n",
    "\n",
    "words2idx = {}\n",
    "labels2idx = {}\n",
    "with open(filepath,'r') as f:\n",
    "    for line in f:\n",
    "        source, target = line.split(' ||| ')\n",
    "        for wordlabel in source.split() + target.split():\n",
    "            word, label = wordlabel.split('/')\n",
    "            if not word in words2idx:\n",
    "                words2idx[word] = len(words2idx)\n",
    "            if not label in labels2idx:\n",
    "                labels2idx[label] = len(labels2idx)\n",
    "print len(words2idx)\n",
    "print words2idx\n",
    "print len(labels2idx)\n",
    "print labels2idx"
   ]
  },
  {
   "cell_type": "code",
   "execution_count": 3,
   "metadata": {
    "collapsed": false
   },
   "outputs": [
    {
     "name": "stdout",
     "output_type": "stream",
     "text": [
      "8763 8763 8763 8763\n",
      "[0, 9, 8, 3, 0, 4]\n",
      "[2, 2, 0, 1, 2, 2]\n",
      "[0, 9, 8, 0, 0, 0]\n",
      "[2, 2, 0, 1, 2, 2]\n"
     ]
    }
   ],
   "source": [
    "'''\n",
    "conver words and labels into numbers\n",
    "neural netword only accept numbers\n",
    "'''\n",
    "\n",
    "source_word = []\n",
    "source_label = []\n",
    "target_word = []\n",
    "target_label = []\n",
    "\n",
    "with open(filepath,'r') as f:\n",
    "    for line in f:\n",
    "        source, target = line.split(' ||| ')\n",
    "        source_wl = source.split()\n",
    "        target_wl = target.split()\n",
    "        \n",
    "        sw = []\n",
    "        sl = []\n",
    "        for wl in source_wl:\n",
    "            w, l = wl.split('/')\n",
    "            sw.append(words2idx[w])\n",
    "            sl.append(labels2idx[l])\n",
    "        source_word.append(sw)\n",
    "        source_label.append(sl)\n",
    "        \n",
    "        tw = []\n",
    "        tl = []\n",
    "        for wl in target_wl:\n",
    "            w, l = wl.split('/')\n",
    "            tw.append(words2idx[w])\n",
    "            tl.append(labels2idx[l])\n",
    "        target_word.append(tw)\n",
    "        target_label.append(tl)\n",
    "print len(source_word), len(source_label), len(target_word), len(target_label)\n",
    "print source_word[5]\n",
    "print source_label[5]\n",
    "print target_word[5]\n",
    "print target_label[5]"
   ]
  },
  {
   "cell_type": "code",
   "execution_count": 4,
   "metadata": {
    "collapsed": false
   },
   "outputs": [],
   "source": [
    "'''\n",
    "split data into train, valid and test\n",
    "'''\n",
    "\n",
    "def split_data(dataset):\n",
    "    test = dataset[:1000]\n",
    "    valid = dataset[1000:2000]\n",
    "    train = dataset[2000:]\n",
    "    return train, valid, test\n",
    "\n",
    "dic = {'labels2idx' : labels2idx, 'words2idx' : words2idx}\n",
    "\n",
    "train_lex, valid_lex, test_lex = split_data(target_word)\n",
    "train_y, valid_y, test_y = split_data(target_label)\n",
    "train_slex, valid_slex, test_slex = split_data(source_word)\n",
    "train_sy, valid_sy, test_sy = split_data(source_label)\n",
    "\n",
    "train_set = (train_lex, train_y, train_slex, train_sy)\n",
    "valid_set = (valid_lex, valid_y, valid_slex, valid_sy)\n",
    "test_set = (test_lex, test_y, test_slex, test_sy)\n"
   ]
  },
  {
   "cell_type": "code",
   "execution_count": 5,
   "metadata": {
    "collapsed": true
   },
   "outputs": [],
   "source": [
    "'''\n",
    "save data\n",
    "'''\n",
    "\n",
    "import cPickle\n",
    "corpus = (train_set, valid_set, test_set, dic)\n",
    "cPickle.dump(corpus, open('alltag.bio.pkl','wb'), protocol=cPickle.HIGHEST_PROTOCOL)\n",
    "cPickle.dump(dic, open('all.dic.bio.pkl','wb'), protocol=cPickle.HIGHEST_PROTOCOL)"
   ]
  },
  {
   "cell_type": "code",
   "execution_count": null,
   "metadata": {
    "collapsed": true
   },
   "outputs": [],
   "source": []
  }
 ],
 "metadata": {
  "kernelspec": {
   "display_name": "Python 2",
   "language": "python",
   "name": "python2"
  },
  "language_info": {
   "codemirror_mode": {
    "name": "ipython",
    "version": 2
   },
   "file_extension": ".py",
   "mimetype": "text/x-python",
   "name": "python",
   "nbconvert_exporter": "python",
   "pygments_lexer": "ipython2",
   "version": "2.7.11"
  }
 },
 "nbformat": 4,
 "nbformat_minor": 0
}
